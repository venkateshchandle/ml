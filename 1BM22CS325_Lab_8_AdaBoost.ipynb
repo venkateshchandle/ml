{
  "nbformat": 4,
  "nbformat_minor": 0,
  "metadata": {
    "colab": {
      "provenance": [],
      "authorship_tag": "ABX9TyNIARzOZbh6Cwyo1auKWm6P",
      "include_colab_link": true
    },
    "kernelspec": {
      "name": "python3",
      "display_name": "Python 3"
    },
    "language_info": {
      "name": "python"
    }
  },
  "cells": [
    {
      "cell_type": "markdown",
      "metadata": {
        "id": "view-in-github",
        "colab_type": "text"
      },
      "source": [
        "<a href=\"https://colab.research.google.com/github/venkateshchandle/ml/blob/main/1BM22CS325_Lab_8_AdaBoost.ipynb\" target=\"_parent\"><img src=\"https://colab.research.google.com/assets/colab-badge.svg\" alt=\"Open In Colab\"/></a>"
      ]
    },
    {
      "cell_type": "code",
      "execution_count": 2,
      "metadata": {
        "colab": {
          "base_uri": "https://localhost:8080/"
        },
        "id": "2_7ExpE5PZ-l",
        "outputId": "9f89d68c-7823-41f5-a069-1c080be1e172"
      },
      "outputs": [
        {
          "output_type": "stream",
          "name": "stdout",
          "text": [
            "Accuracy with n_estimators=10: 0.8182004299314157\n",
            "Confusion Matrix:\n",
            "[[6782  632]\n",
            " [1144 1211]]\n",
            "Best Accuracy: 0.8334527587265841 achieved with n_estimators=80\n"
          ]
        }
      ],
      "source": [
        "import pandas as pd\n",
        "from sklearn.model_selection import train_test_split\n",
        "from sklearn.ensemble import AdaBoostClassifier\n",
        "from sklearn.metrics import accuracy_score, confusion_matrix\n",
        "from sklearn.preprocessing import LabelEncoder\n",
        "\n",
        "\n",
        "# Load the dataset\n",
        "data = pd.read_csv('/content/income.csv')\n",
        "\n",
        "# Preprocessing: Handle categorical features using Label Encoding\n",
        "for col in data.select_dtypes(include=['object']).columns:\n",
        "    le = LabelEncoder()\n",
        "    data[col] = le.fit_transform(data[col])\n",
        "\n",
        "# Separate features (X) and target (y)\n",
        "X = data.drop('income_level', axis=1)\n",
        "y = data['income_level']\n",
        "\n",
        "# Split data into training and testing sets\n",
        "X_train, X_test, y_train, y_test = train_test_split(X, y, test_size=0.2, random_state=42)\n",
        "\n",
        "# Build AdaBoost classifier with n_estimators=10\n",
        "ada_boost = AdaBoostClassifier(n_estimators=10, random_state=42)\n",
        "ada_boost.fit(X_train, y_train)\n",
        "\n",
        "# Make predictions on the test set\n",
        "y_pred = ada_boost.predict(X_test)\n",
        "\n",
        "# Measure prediction score (accuracy)\n",
        "accuracy = accuracy_score(y_test, y_pred)\n",
        "print(f\"Accuracy with n_estimators=10: {accuracy}\")\n",
        "\n",
        "# Confusion matrix\n",
        "cm = confusion_matrix(y_test, y_pred)\n",
        "print(\"Confusion Matrix:\")\n",
        "print(cm)\n",
        "\n",
        "# Fine-tuning: Find best score by changing number of trees\n",
        "best_score = 0\n",
        "best_n_estimators = 0\n",
        "\n",
        "for n_estimators in range(10, 101, 10):  # Try n_estimators from 10 to 100 in steps of 10\n",
        "    ada_boost = AdaBoostClassifier(n_estimators=n_estimators, random_state=42)\n",
        "    ada_boost.fit(X_train, y_train)\n",
        "    y_pred = ada_boost.predict(X_test)\n",
        "    accuracy = accuracy_score(y_test, y_pred)\n",
        "\n",
        "    if accuracy > best_score:\n",
        "        best_score = accuracy\n",
        "        best_n_estimators = n_estimators\n",
        "\n",
        "print(f\"Best Accuracy: {best_score} achieved with n_estimators={best_n_estimators}\")"
      ]
    }
  ]
}