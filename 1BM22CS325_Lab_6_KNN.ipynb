{
  "nbformat": 4,
  "nbformat_minor": 0,
  "metadata": {
    "colab": {
      "provenance": [],
      "authorship_tag": "ABX9TyNLYysR20n5FzKrEUCJ1Opv",
      "include_colab_link": true
    },
    "kernelspec": {
      "name": "python3",
      "display_name": "Python 3"
    },
    "language_info": {
      "name": "python"
    }
  },
  "cells": [
    {
      "cell_type": "markdown",
      "metadata": {
        "id": "view-in-github",
        "colab_type": "text"
      },
      "source": [
        "<a href=\"https://colab.research.google.com/github/venkateshchandle/ml/blob/main/1BM22CS325_Lab_6_KNN.ipynb\" target=\"_parent\"><img src=\"https://colab.research.google.com/assets/colab-badge.svg\" alt=\"Open In Colab\"/></a>"
      ]
    },
    {
      "cell_type": "code",
      "source": [
        "!pip install pandas scikit-learn"
      ],
      "metadata": {
        "colab": {
          "base_uri": "https://localhost:8080/"
        },
        "id": "knv1rfGs470i",
        "outputId": "e00e622e-7489-46b7-acfb-2aa63e6d91ec"
      },
      "execution_count": 14,
      "outputs": [
        {
          "output_type": "stream",
          "name": "stdout",
          "text": [
            "Requirement already satisfied: pandas in /usr/local/lib/python3.11/dist-packages (2.2.2)\n",
            "Requirement already satisfied: scikit-learn in /usr/local/lib/python3.11/dist-packages (1.6.1)\n",
            "Requirement already satisfied: numpy>=1.23.2 in /usr/local/lib/python3.11/dist-packages (from pandas) (2.0.2)\n",
            "Requirement already satisfied: python-dateutil>=2.8.2 in /usr/local/lib/python3.11/dist-packages (from pandas) (2.8.2)\n",
            "Requirement already satisfied: pytz>=2020.1 in /usr/local/lib/python3.11/dist-packages (from pandas) (2025.2)\n",
            "Requirement already satisfied: tzdata>=2022.7 in /usr/local/lib/python3.11/dist-packages (from pandas) (2025.2)\n",
            "Requirement already satisfied: scipy>=1.6.0 in /usr/local/lib/python3.11/dist-packages (from scikit-learn) (1.14.1)\n",
            "Requirement already satisfied: joblib>=1.2.0 in /usr/local/lib/python3.11/dist-packages (from scikit-learn) (1.4.2)\n",
            "Requirement already satisfied: threadpoolctl>=3.1.0 in /usr/local/lib/python3.11/dist-packages (from scikit-learn) (3.6.0)\n",
            "Requirement already satisfied: six>=1.5 in /usr/local/lib/python3.11/dist-packages (from python-dateutil>=2.8.2->pandas) (1.17.0)\n"
          ]
        }
      ]
    },
    {
      "cell_type": "code",
      "source": [
        "import pandas as pd\n",
        "from sklearn.model_selection import train_test_split\n",
        "from sklearn.neighbors import KNeighborsClassifier\n",
        "from sklearn.metrics import accuracy_score, confusion_matrix, classification_report"
      ],
      "metadata": {
        "id": "Z2SeqtX55_15"
      },
      "execution_count": 15,
      "outputs": []
    },
    {
      "cell_type": "code",
      "source": [
        "iris_data = pd.read_csv('/content/iris.csv')"
      ],
      "metadata": {
        "id": "wSSm7b756Gvy"
      },
      "execution_count": 16,
      "outputs": []
    },
    {
      "cell_type": "code",
      "source": [
        "X_iris = iris_data.drop('species', axis=1)  # Assuming 'species' is the target column\n",
        "y_iris = iris_data['species']\n",
        "\n",
        "# Split data into training and testing sets\n",
        "X_iris_train, X_iris_test, y_iris_train, y_iris_test = train_test_split(\n",
        "    X_iris, y_iris, test_size=0.2, random_state=42\n",
        ")\n",
        "\n",
        "# Create and train the KNN classifier (using k=5 as an example)\n",
        "knn_iris = KNeighborsClassifier(n_neighbors=5)\n",
        "knn_iris.fit(X_iris_train, y_iris_train)\n",
        "\n",
        "# Make predictions on the test set\n",
        "y_iris_pred = knn_iris.predict(X_iris_test)\n",
        "\n",
        "# Evaluate the model\n",
        "iris_accuracy = accuracy_score(y_iris_test, y_iris_pred)\n",
        "iris_conf_matrix = confusion_matrix(y_iris_test, y_iris_pred)\n",
        "iris_class_report = classification_report(y_iris_test, y_iris_pred)\n",
        "\n",
        "# Print the results\n",
        "print(\"Iris Dataset - KNN Classifier Results:\")\n",
        "print(\"Accuracy:\", iris_accuracy)\n",
        "print(\"Confusion Matrix:\\n\", iris_conf_matrix)\n",
        "print(\"Classification Report:\\n\", iris_class_report)\n"
      ],
      "metadata": {
        "colab": {
          "base_uri": "https://localhost:8080/"
        },
        "id": "tzOyptYj6KYK",
        "outputId": "52cb4e90-1f64-4c4b-db97-c4d3f355e59d"
      },
      "execution_count": 17,
      "outputs": [
        {
          "output_type": "stream",
          "name": "stdout",
          "text": [
            "Iris Dataset - KNN Classifier Results:\n",
            "Accuracy: 1.0\n",
            "Confusion Matrix:\n",
            " [[10  0  0]\n",
            " [ 0  9  0]\n",
            " [ 0  0 11]]\n",
            "Classification Report:\n",
            "               precision    recall  f1-score   support\n",
            "\n",
            "      setosa       1.00      1.00      1.00        10\n",
            "  versicolor       1.00      1.00      1.00         9\n",
            "   virginica       1.00      1.00      1.00        11\n",
            "\n",
            "    accuracy                           1.00        30\n",
            "   macro avg       1.00      1.00      1.00        30\n",
            "weighted avg       1.00      1.00      1.00        30\n",
            "\n"
          ]
        }
      ]
    },
    {
      "cell_type": "code",
      "source": [
        "import pandas as pd\n",
        "from sklearn.model_selection import train_test_split\n",
        "from sklearn.neighbors import KNeighborsClassifier\n",
        "from sklearn.preprocessing import StandardScaler\n",
        "from sklearn.metrics import accuracy_score, confusion_matrix\n",
        "\n",
        "# Load the Diabetes dataset\n",
        "diabetes_data = pd.read_csv('/content/diabetes.csv')\n",
        "\n",
        "# Separate features (X) and target (y)\n",
        "X_diabetes = diabetes_data.drop('Outcome', axis=1)  # Assuming 'Outcome' is the target column\n",
        "y_diabetes = diabetes_data['Outcome']\n",
        "\n",
        "# Split data into training and testing sets\n",
        "X_diabetes_train, X_diabetes_test, y_diabetes_train, y_diabetes_test = train_test_split(\n",
        "    X_diabetes, y_diabetes, test_size=0.2, random_state=42\n",
        ")\n",
        "\n",
        "# Feature scaling using StandardScaler\n",
        "scaler = StandardScaler()\n",
        "X_diabetes_train = scaler.fit_transform(X_diabetes_train)\n",
        "X_diabetes_test = scaler.transform(X_diabetes_test)\n",
        "\n",
        "# Create and train the KNN classifier (using k=5 as an example)\n",
        "knn_diabetes = KNeighborsClassifier(n_neighbors=5)\n",
        "knn_diabetes.fit(X_diabetes_train, y_diabetes_train)\n",
        "\n",
        "# Make predictions on the test set\n",
        "y_diabetes_pred = knn_diabetes.predict(X_diabetes_test)\n",
        "\n",
        "# Evaluate the model\n",
        "diabetes_accuracy = accuracy_score(y_diabetes_test, y_diabetes_pred)\n",
        "diabetes_conf_matrix = confusion_matrix(y_diabetes_test, y_diabetes_pred)\n",
        "\n",
        "# Print the results\n",
        "print(\"\\nDiabetes Dataset - KNN Classifier Results:\")\n",
        "print(\"Accuracy:\", diabetes_accuracy)\n",
        "print(\"Confusion Matrix:\\n\", diabetes_conf_matrix)"
      ],
      "metadata": {
        "colab": {
          "base_uri": "https://localhost:8080/"
        },
        "id": "HYiYSfme6SV5",
        "outputId": "8440cd01-1aa8-42d8-e851-4a9c2a37345b"
      },
      "execution_count": 18,
      "outputs": [
        {
          "output_type": "stream",
          "name": "stdout",
          "text": [
            "\n",
            "Diabetes Dataset - KNN Classifier Results:\n",
            "Accuracy: 0.6948051948051948\n",
            "Confusion Matrix:\n",
            " [[79 20]\n",
            " [27 28]]\n"
          ]
        }
      ]
    },
    {
      "cell_type": "code",
      "source": [
        "import pandas as pd\n",
        "from sklearn.model_selection import train_test_split\n",
        "from sklearn.neighbors import KNeighborsClassifier\n",
        "from sklearn.metrics import accuracy_score, confusion_matrix, classification_report\n",
        "import matplotlib.pyplot as plt\n",
        "import seaborn as sns\n",
        "\n",
        "# Load the heart disease dataset\n",
        "heart_data = pd.read_csv('/content/heart.csv')\n",
        "\n",
        "# Separate features (X) and target (y)\n",
        "X = heart_data.drop('target', axis=1)\n",
        "y = heart_data['target']\n",
        "\n",
        "# Split data into training and testing sets\n",
        "X_train, X_test, y_train, y_test = train_test_split(X, y, test_size=0.2, random_state=42)\n",
        "\n",
        "# Find optimal k value\n",
        "k_values = list(range(1, 31))  # Try k values from 1 to 30\n",
        "accuracy_scores = []\n",
        "\n",
        "for k in k_values:\n",
        "    knn = KNeighborsClassifier(n_neighbors=k)\n",
        "    knn.fit(X_train, y_train)\n",
        "    y_pred = knn.predict(X_test)\n",
        "    accuracy_scores.append(accuracy_score(y_test, y_pred))\n",
        "\n",
        "# Get the optimal k value\n",
        "optimal_k = k_values[accuracy_scores.index(max(accuracy_scores))]\n",
        "print(\"Optimal k value:\", optimal_k)\n",
        "\n",
        "# Train the model with the optimal k value\n",
        "knn_optimal = KNeighborsClassifier(n_neighbors=optimal_k)\n",
        "knn_optimal.fit(X_train, y_train)\n",
        "\n",
        "# Make predictions on the test set\n",
        "y_pred = knn_optimal.predict(X_test)\n",
        "\n",
        "# Evaluate the model\n",
        "accuracy = accuracy_score(y_test, y_pred)\n",
        "conf_matrix = confusion_matrix(y_test, y_pred)\n",
        "class_report = classification_report(y_test, y_pred)\n",
        "\n",
        "# Print the results\n",
        "print(\"Accuracy:\", accuracy)\n",
        "print(\"Confusion Matrix:\\n\", conf_matrix)\n",
        "print(\"Classification Report:\\n\", class_report)\n",
        "\n",
        "# Plot confusion matrix\n",
        "plt.figure(figsize=(8, 6))\n",
        "sns.heatmap(conf_matrix, annot=True, fmt=\"d\", cmap=\"Blues\",\n",
        "            xticklabels=['No Disease (0)', 'Disease (1)'],\n",
        "            yticklabels=['No Disease (0)', 'Disease (1)'])\n",
        "plt.title(\"Confusion Matrix\")\n",
        "plt.xlabel(\"Predicted Label\")\n",
        "plt.ylabel(\"True Label\")\n",
        "plt.show()\n",
        "\n",
        "# Plot classification report (using text display)\n",
        "print(\"Classification Report:\")\n",
        "print(class_report)"
      ],
      "metadata": {
        "colab": {
          "base_uri": "https://localhost:8080/",
          "height": 998
        },
        "id": "_XWrsbGK6rzC",
        "outputId": "17c74930-2a91-4edc-edc3-c801a64b7ea1"
      },
      "execution_count": 20,
      "outputs": [
        {
          "output_type": "stream",
          "name": "stdout",
          "text": [
            "Optimal k value: 11\n",
            "Accuracy: 0.7540983606557377\n",
            "Confusion Matrix:\n",
            " [[20  9]\n",
            " [ 6 26]]\n",
            "Classification Report:\n",
            "               precision    recall  f1-score   support\n",
            "\n",
            "           0       0.77      0.69      0.73        29\n",
            "           1       0.74      0.81      0.78        32\n",
            "\n",
            "    accuracy                           0.75        61\n",
            "   macro avg       0.76      0.75      0.75        61\n",
            "weighted avg       0.76      0.75      0.75        61\n",
            "\n"
          ]
        },
        {
          "output_type": "display_data",
          "data": {
            "text/plain": [
              "<Figure size 800x600 with 2 Axes>"
            ],
            "image/png": "[encoded data removed]"
          },
          "metadata": {}
        },
        {
          "output_type": "stream",
          "name": "stdout",
          "text": [
            "Classification Report:\n",
            "              precision    recall  f1-score   support\n",
            "\n",
            "           0       0.77      0.69      0.73        29\n",
            "           1       0.74      0.81      0.78        32\n",
            "\n",
            "    accuracy                           0.75        61\n",
            "   macro avg       0.76      0.75      0.75        61\n",
            "weighted avg       0.76      0.75      0.75        61\n",
            "\n"
          ]
        }
      ]
    }
  ]
}