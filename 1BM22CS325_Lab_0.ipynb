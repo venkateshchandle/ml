{
  "nbformat": 4,
  "nbformat_minor": 0,
  "metadata": {
    "colab": {
      "provenance": [],
      "authorship_tag": "ABX9TyOBI6vdwrObNXQLu6F/QTFy",
      "include_colab_link": true
    },
    "kernelspec": {
      "name": "python3",
      "display_name": "Python 3"
    },
    "language_info": {
      "name": "python"
    }
  },
  "cells": [
    {
      "cell_type": "markdown",
      "metadata": {
        "id": "view-in-github",
        "colab_type": "text"
      },
      "source": [
        "<a href=\"https://colab.research.google.com/github/venkateshchandle/ml/blob/main/1BM22CS325_Lab_0.ipynb\" target=\"_parent\"><img src=\"https://colab.research.google.com/assets/colab-badge.svg\" alt=\"Open In Colab\"/></a>"
      ]
    },
    {
      "cell_type": "code",
      "execution_count": null,
      "metadata": {
        "id": "IXnV4P2cvVIm"
      },
      "outputs": [],
      "source": [
        "import pandas as pd\n",
        "# Method-1: Initializing values directly into DataFrame\n",
        "data_method1 = {'USN': ['1JS17CS001', '1JS17CS002', '1JS17CS003', '1JS17CS004',\n",
        "'1JS17CS005'],\n",
        "'Name': ['Alice', 'Bob', 'Charlie', 'David', 'Eve'], 'Marks': [90, 85, 92, 78, 88]}\n",
        "df_method1 = pd.DataFrame(data_method1)\n",
        "print(\"Method-1:\")\n",
        "print(df_method1)\n",
        "print(\"-\" * 20)\n",
        "# Method-2: Importing datasets from sklearn.datasets\n",
        "from sklearn.datasets import load_diabetes\n",
        "diabetes_data = load_diabetes()\n",
        "df_method2 = pd.DataFrame(data=diabetes_data.data,\n",
        "columns=diabetes_data.feature_names)\n",
        "df_method2['target'] = diabetes_data.target\n",
        "print(\"Method-2:\")\n",
        "print(df_method2.head())\n",
        "print(\"-\" * 20)\n",
        "# Method-3: Importing datasets from a specific .csv file\n",
        "try:\n",
        "  df_method3 = pd.read_csv('sample_sales_data.csv')\n",
        "  print(\"Method-3:\")\n",
        "  print(df_method3.head())\n",
        "  print(\"-\" * 20)\n",
        "except FileNotFoundError:\n",
        "  print(\"sample_sales_data.csv not found. Please upload the file.\")\n",
        "  print(\"-\" * 20)\n"
      ]
    },
    {
      "cell_type": "code",
      "source": [
        "import yfinance as yf\n",
        "import matplotlib.pyplot as plt\n",
        "tickers = [\"HDFCBANK.NS\", \"ICICIBANK.NS\", \"KOTAKBANK.NS\"]\n",
        "start_date = \"2024-01-01\"\n",
        "end_date = \"2024-12-30\"\n",
        "\n",
        "data = yf.download(tickers, start=start_date, end=end_date)\n",
        "closing_prices =data['Close']\n",
        "daily_returns = closing_prices.pct_change().dropna()\n",
        "plt.figure(figsize=(12, 6))\n",
        "closing_prices.plot()\n",
        "plt.title('Closing Prices (2024)')\n",
        "plt.xlabel('Date')\n",
        "plt.ylabel('Price (INR)')\n",
        "plt.grid(True)\n",
        "plt.show()\n",
        "plt.figure(figsize=(12, 6))\n",
        "daily_returns.plot()\n",
        "plt.title('Daily Returns (2024)')\n",
        "plt.xlabel('Date')\n",
        "plt.ylabel('Daily Return')\n",
        "plt.grid(True)\n",
        "plt.show()"
      ],
      "metadata": {
        "id": "MuuemFqAwIm8"
      },
      "execution_count": null,
      "outputs": []
    }
  ]
}